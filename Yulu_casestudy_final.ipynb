{
 "cells": [
  {
   "cell_type": "code",
   "execution_count": 1,
   "id": "8146ec5f",
   "metadata": {},
   "outputs": [],
   "source": [
    "import numpy as np \n",
    "import pandas as pd \n",
    "\n",
    "import matplotlib.pyplot as plt\n",
    "\n"
   ]
  },
  {
   "cell_type": "code",
   "execution_count": 3,
   "id": "b101756d",
   "metadata": {},
   "outputs": [
    {
     "data": {
      "text/html": [
       "<div>\n",
       "<style scoped>\n",
       "    .dataframe tbody tr th:only-of-type {\n",
       "        vertical-align: middle;\n",
       "    }\n",
       "\n",
       "    .dataframe tbody tr th {\n",
       "        vertical-align: top;\n",
       "    }\n",
       "\n",
       "    .dataframe thead th {\n",
       "        text-align: right;\n",
       "    }\n",
       "</style>\n",
       "<table border=\"1\" class=\"dataframe\">\n",
       "  <thead>\n",
       "    <tr style=\"text-align: right;\">\n",
       "      <th></th>\n",
       "      <th>datetime</th>\n",
       "      <th>season</th>\n",
       "      <th>holiday</th>\n",
       "      <th>workingday</th>\n",
       "      <th>weather</th>\n",
       "      <th>temp</th>\n",
       "      <th>atemp</th>\n",
       "      <th>humidity</th>\n",
       "      <th>windspeed</th>\n",
       "      <th>casual</th>\n",
       "      <th>registered</th>\n",
       "      <th>count</th>\n",
       "    </tr>\n",
       "  </thead>\n",
       "  <tbody>\n",
       "    <tr>\n",
       "      <th>0</th>\n",
       "      <td>2011-01-01 00:00:00</td>\n",
       "      <td>1</td>\n",
       "      <td>0</td>\n",
       "      <td>0</td>\n",
       "      <td>1</td>\n",
       "      <td>9.84</td>\n",
       "      <td>14.395</td>\n",
       "      <td>81</td>\n",
       "      <td>0.0</td>\n",
       "      <td>3</td>\n",
       "      <td>13</td>\n",
       "      <td>16</td>\n",
       "    </tr>\n",
       "    <tr>\n",
       "      <th>1</th>\n",
       "      <td>2011-01-01 01:00:00</td>\n",
       "      <td>1</td>\n",
       "      <td>0</td>\n",
       "      <td>0</td>\n",
       "      <td>1</td>\n",
       "      <td>9.02</td>\n",
       "      <td>13.635</td>\n",
       "      <td>80</td>\n",
       "      <td>0.0</td>\n",
       "      <td>8</td>\n",
       "      <td>32</td>\n",
       "      <td>40</td>\n",
       "    </tr>\n",
       "    <tr>\n",
       "      <th>2</th>\n",
       "      <td>2011-01-01 02:00:00</td>\n",
       "      <td>1</td>\n",
       "      <td>0</td>\n",
       "      <td>0</td>\n",
       "      <td>1</td>\n",
       "      <td>9.02</td>\n",
       "      <td>13.635</td>\n",
       "      <td>80</td>\n",
       "      <td>0.0</td>\n",
       "      <td>5</td>\n",
       "      <td>27</td>\n",
       "      <td>32</td>\n",
       "    </tr>\n",
       "    <tr>\n",
       "      <th>3</th>\n",
       "      <td>2011-01-01 03:00:00</td>\n",
       "      <td>1</td>\n",
       "      <td>0</td>\n",
       "      <td>0</td>\n",
       "      <td>1</td>\n",
       "      <td>9.84</td>\n",
       "      <td>14.395</td>\n",
       "      <td>75</td>\n",
       "      <td>0.0</td>\n",
       "      <td>3</td>\n",
       "      <td>10</td>\n",
       "      <td>13</td>\n",
       "    </tr>\n",
       "    <tr>\n",
       "      <th>4</th>\n",
       "      <td>2011-01-01 04:00:00</td>\n",
       "      <td>1</td>\n",
       "      <td>0</td>\n",
       "      <td>0</td>\n",
       "      <td>1</td>\n",
       "      <td>9.84</td>\n",
       "      <td>14.395</td>\n",
       "      <td>75</td>\n",
       "      <td>0.0</td>\n",
       "      <td>0</td>\n",
       "      <td>1</td>\n",
       "      <td>1</td>\n",
       "    </tr>\n",
       "  </tbody>\n",
       "</table>\n",
       "</div>"
      ],
      "text/plain": [
       "              datetime  season  holiday  workingday  weather  temp   atemp  \\\n",
       "0  2011-01-01 00:00:00       1        0           0        1  9.84  14.395   \n",
       "1  2011-01-01 01:00:00       1        0           0        1  9.02  13.635   \n",
       "2  2011-01-01 02:00:00       1        0           0        1  9.02  13.635   \n",
       "3  2011-01-01 03:00:00       1        0           0        1  9.84  14.395   \n",
       "4  2011-01-01 04:00:00       1        0           0        1  9.84  14.395   \n",
       "\n",
       "   humidity  windspeed  casual  registered  count  \n",
       "0        81        0.0       3          13     16  \n",
       "1        80        0.0       8          32     40  \n",
       "2        80        0.0       5          27     32  \n",
       "3        75        0.0       3          10     13  \n",
       "4        75        0.0       0           1      1  "
      ]
     },
     "execution_count": 3,
     "metadata": {},
     "output_type": "execute_result"
    }
   ],
   "source": [
    "df=pd.read_csv('YULU_data.csv')\n",
    "df.head()"
   ]
  },
  {
   "cell_type": "code",
   "execution_count": 30,
   "id": "6ef71ba4",
   "metadata": {},
   "outputs": [
    {
     "data": {
      "text/html": [
       "<div>\n",
       "<style scoped>\n",
       "    .dataframe tbody tr th:only-of-type {\n",
       "        vertical-align: middle;\n",
       "    }\n",
       "\n",
       "    .dataframe tbody tr th {\n",
       "        vertical-align: top;\n",
       "    }\n",
       "\n",
       "    .dataframe thead th {\n",
       "        text-align: right;\n",
       "    }\n",
       "</style>\n",
       "<table border=\"1\" class=\"dataframe\">\n",
       "  <thead>\n",
       "    <tr style=\"text-align: right;\">\n",
       "      <th></th>\n",
       "      <th>season</th>\n",
       "      <th>holiday</th>\n",
       "      <th>workingday</th>\n",
       "      <th>weather</th>\n",
       "      <th>temp</th>\n",
       "      <th>atemp</th>\n",
       "      <th>humidity</th>\n",
       "      <th>windspeed</th>\n",
       "      <th>casual</th>\n",
       "      <th>registered</th>\n",
       "      <th>count</th>\n",
       "    </tr>\n",
       "  </thead>\n",
       "  <tbody>\n",
       "    <tr>\n",
       "      <th>count</th>\n",
       "      <td>10886.000000</td>\n",
       "      <td>10886.000000</td>\n",
       "      <td>10886.000000</td>\n",
       "      <td>10886.000000</td>\n",
       "      <td>10886.00000</td>\n",
       "      <td>10886.000000</td>\n",
       "      <td>10886.000000</td>\n",
       "      <td>10886.000000</td>\n",
       "      <td>10886.000000</td>\n",
       "      <td>10886.000000</td>\n",
       "      <td>10886.000000</td>\n",
       "    </tr>\n",
       "    <tr>\n",
       "      <th>mean</th>\n",
       "      <td>2.506614</td>\n",
       "      <td>0.028569</td>\n",
       "      <td>0.680875</td>\n",
       "      <td>1.418427</td>\n",
       "      <td>20.23086</td>\n",
       "      <td>23.655084</td>\n",
       "      <td>61.886460</td>\n",
       "      <td>12.799395</td>\n",
       "      <td>36.021955</td>\n",
       "      <td>155.552177</td>\n",
       "      <td>191.574132</td>\n",
       "    </tr>\n",
       "    <tr>\n",
       "      <th>std</th>\n",
       "      <td>1.116174</td>\n",
       "      <td>0.166599</td>\n",
       "      <td>0.466159</td>\n",
       "      <td>0.633839</td>\n",
       "      <td>7.79159</td>\n",
       "      <td>8.474601</td>\n",
       "      <td>19.245033</td>\n",
       "      <td>8.164537</td>\n",
       "      <td>49.960477</td>\n",
       "      <td>151.039033</td>\n",
       "      <td>181.144454</td>\n",
       "    </tr>\n",
       "    <tr>\n",
       "      <th>min</th>\n",
       "      <td>1.000000</td>\n",
       "      <td>0.000000</td>\n",
       "      <td>0.000000</td>\n",
       "      <td>1.000000</td>\n",
       "      <td>0.82000</td>\n",
       "      <td>0.760000</td>\n",
       "      <td>0.000000</td>\n",
       "      <td>0.000000</td>\n",
       "      <td>0.000000</td>\n",
       "      <td>0.000000</td>\n",
       "      <td>1.000000</td>\n",
       "    </tr>\n",
       "    <tr>\n",
       "      <th>25%</th>\n",
       "      <td>2.000000</td>\n",
       "      <td>0.000000</td>\n",
       "      <td>0.000000</td>\n",
       "      <td>1.000000</td>\n",
       "      <td>13.94000</td>\n",
       "      <td>16.665000</td>\n",
       "      <td>47.000000</td>\n",
       "      <td>7.001500</td>\n",
       "      <td>4.000000</td>\n",
       "      <td>36.000000</td>\n",
       "      <td>42.000000</td>\n",
       "    </tr>\n",
       "    <tr>\n",
       "      <th>50%</th>\n",
       "      <td>3.000000</td>\n",
       "      <td>0.000000</td>\n",
       "      <td>1.000000</td>\n",
       "      <td>1.000000</td>\n",
       "      <td>20.50000</td>\n",
       "      <td>24.240000</td>\n",
       "      <td>62.000000</td>\n",
       "      <td>12.998000</td>\n",
       "      <td>17.000000</td>\n",
       "      <td>118.000000</td>\n",
       "      <td>145.000000</td>\n",
       "    </tr>\n",
       "    <tr>\n",
       "      <th>75%</th>\n",
       "      <td>4.000000</td>\n",
       "      <td>0.000000</td>\n",
       "      <td>1.000000</td>\n",
       "      <td>2.000000</td>\n",
       "      <td>26.24000</td>\n",
       "      <td>31.060000</td>\n",
       "      <td>77.000000</td>\n",
       "      <td>16.997900</td>\n",
       "      <td>49.000000</td>\n",
       "      <td>222.000000</td>\n",
       "      <td>284.000000</td>\n",
       "    </tr>\n",
       "    <tr>\n",
       "      <th>max</th>\n",
       "      <td>4.000000</td>\n",
       "      <td>1.000000</td>\n",
       "      <td>1.000000</td>\n",
       "      <td>4.000000</td>\n",
       "      <td>41.00000</td>\n",
       "      <td>45.455000</td>\n",
       "      <td>100.000000</td>\n",
       "      <td>56.996900</td>\n",
       "      <td>367.000000</td>\n",
       "      <td>886.000000</td>\n",
       "      <td>977.000000</td>\n",
       "    </tr>\n",
       "  </tbody>\n",
       "</table>\n",
       "</div>"
      ],
      "text/plain": [
       "             season       holiday    workingday       weather         temp  \\\n",
       "count  10886.000000  10886.000000  10886.000000  10886.000000  10886.00000   \n",
       "mean       2.506614      0.028569      0.680875      1.418427     20.23086   \n",
       "std        1.116174      0.166599      0.466159      0.633839      7.79159   \n",
       "min        1.000000      0.000000      0.000000      1.000000      0.82000   \n",
       "25%        2.000000      0.000000      0.000000      1.000000     13.94000   \n",
       "50%        3.000000      0.000000      1.000000      1.000000     20.50000   \n",
       "75%        4.000000      0.000000      1.000000      2.000000     26.24000   \n",
       "max        4.000000      1.000000      1.000000      4.000000     41.00000   \n",
       "\n",
       "              atemp      humidity     windspeed        casual    registered  \\\n",
       "count  10886.000000  10886.000000  10886.000000  10886.000000  10886.000000   \n",
       "mean      23.655084     61.886460     12.799395     36.021955    155.552177   \n",
       "std        8.474601     19.245033      8.164537     49.960477    151.039033   \n",
       "min        0.760000      0.000000      0.000000      0.000000      0.000000   \n",
       "25%       16.665000     47.000000      7.001500      4.000000     36.000000   \n",
       "50%       24.240000     62.000000     12.998000     17.000000    118.000000   \n",
       "75%       31.060000     77.000000     16.997900     49.000000    222.000000   \n",
       "max       45.455000    100.000000     56.996900    367.000000    886.000000   \n",
       "\n",
       "              count  \n",
       "count  10886.000000  \n",
       "mean     191.574132  \n",
       "std      181.144454  \n",
       "min        1.000000  \n",
       "25%       42.000000  \n",
       "50%      145.000000  \n",
       "75%      284.000000  \n",
       "max      977.000000  "
      ]
     },
     "execution_count": 30,
     "metadata": {},
     "output_type": "execute_result"
    }
   ],
   "source": [
    "df.describe()"
   ]
  },
  {
   "cell_type": "code",
   "execution_count": 4,
   "id": "ea842645",
   "metadata": {},
   "outputs": [
    {
     "name": "stdout",
     "output_type": "stream",
     "text": [
      "<class 'pandas.core.frame.DataFrame'>\n",
      "RangeIndex: 10886 entries, 0 to 10885\n",
      "Data columns (total 12 columns):\n",
      " #   Column      Non-Null Count  Dtype  \n",
      "---  ------      --------------  -----  \n",
      " 0   datetime    10886 non-null  object \n",
      " 1   season      10886 non-null  int64  \n",
      " 2   holiday     10886 non-null  int64  \n",
      " 3   workingday  10886 non-null  int64  \n",
      " 4   weather     10886 non-null  int64  \n",
      " 5   temp        10886 non-null  float64\n",
      " 6   atemp       10886 non-null  float64\n",
      " 7   humidity    10886 non-null  int64  \n",
      " 8   windspeed   10886 non-null  float64\n",
      " 9   casual      10886 non-null  int64  \n",
      " 10  registered  10886 non-null  int64  \n",
      " 11  count       10886 non-null  int64  \n",
      "dtypes: float64(3), int64(8), object(1)\n",
      "memory usage: 1020.7+ KB\n"
     ]
    }
   ],
   "source": [
    "df.info()"
   ]
  },
  {
   "cell_type": "code",
   "execution_count": 28,
   "id": "5456b8ae",
   "metadata": {},
   "outputs": [
    {
     "data": {
      "text/plain": [
       "datetime      0\n",
       "season        0\n",
       "holiday       0\n",
       "workingday    0\n",
       "weather       0\n",
       "temp          0\n",
       "atemp         0\n",
       "humidity      0\n",
       "windspeed     0\n",
       "casual        0\n",
       "registered    0\n",
       "count         0\n",
       "dtype: int64"
      ]
     },
     "execution_count": 28,
     "metadata": {},
     "output_type": "execute_result"
    }
   ],
   "source": [
    "df.isnull().sum()"
   ]
  },
  {
   "cell_type": "code",
   "execution_count": null,
   "id": "4e410635",
   "metadata": {},
   "outputs": [],
   "source": [
    "## no data missing or null, data processing not needed"
   ]
  },
  {
   "cell_type": "code",
   "execution_count": 6,
   "id": "1711f7a8",
   "metadata": {},
   "outputs": [
    {
     "data": {
      "text/plain": [
       "(10886, 12)"
      ]
     },
     "execution_count": 6,
     "metadata": {},
     "output_type": "execute_result"
    }
   ],
   "source": [
    "df.shape"
   ]
  },
  {
   "cell_type": "code",
   "execution_count": 29,
   "id": "d745930c",
   "metadata": {},
   "outputs": [
    {
     "data": {
      "text/plain": [
       "datetime       object\n",
       "season          int64\n",
       "holiday         int64\n",
       "workingday      int64\n",
       "weather         int64\n",
       "temp          float64\n",
       "atemp         float64\n",
       "humidity        int64\n",
       "windspeed     float64\n",
       "casual          int64\n",
       "registered      int64\n",
       "count           int64\n",
       "dtype: object"
      ]
     },
     "execution_count": 29,
     "metadata": {},
     "output_type": "execute_result"
    }
   ],
   "source": [
    "df.dtypes"
   ]
  },
  {
   "cell_type": "code",
   "execution_count": null,
   "id": "dd861a1f",
   "metadata": {},
   "outputs": [],
   "source": [
    "#to changed proper data type as below\n",
    "\n",
    "datetime - to datetime\n",
    "season - to categorical\n",
    "holiday - to categorical\n",
    "workingday - to categorical\n",
    "weather - to categorical"
   ]
  },
  {
   "cell_type": "code",
   "execution_count": 39,
   "id": "94e71102",
   "metadata": {},
   "outputs": [],
   "source": [
    "df['datetime'] = pd.to_datetime(df['datetime'])\n",
    "df['season']=df['season'].astype('object')\n",
    "df['holiday']=df['holiday'].astype('object')\n",
    "df['workingday']=df['workingday'].astype('object')\n",
    "df['weather']=df['weather'].astype('object')"
   ]
  },
  {
   "cell_type": "code",
   "execution_count": 40,
   "id": "2c711052",
   "metadata": {},
   "outputs": [
    {
     "data": {
      "text/plain": [
       "datetime      datetime64[ns]\n",
       "season                object\n",
       "holiday               object\n",
       "workingday            object\n",
       "weather               object\n",
       "temp                 float64\n",
       "atemp                float64\n",
       "humidity               int64\n",
       "windspeed            float64\n",
       "casual                 int64\n",
       "registered             int64\n",
       "count                  int64\n",
       "dtype: object"
      ]
     },
     "execution_count": 40,
     "metadata": {},
     "output_type": "execute_result"
    }
   ],
   "source": [
    "df.dtypes"
   ]
  },
  {
   "cell_type": "code",
   "execution_count": 41,
   "id": "90f74d63",
   "metadata": {},
   "outputs": [
    {
     "data": {
      "text/plain": [
       "4    2734\n",
       "2    2733\n",
       "3    2733\n",
       "1    2686\n",
       "Name: season, dtype: int64"
      ]
     },
     "execution_count": 41,
     "metadata": {},
     "output_type": "execute_result"
    }
   ],
   "source": [
    "df.season.value_counts()"
   ]
  },
  {
   "cell_type": "code",
   "execution_count": null,
   "id": "9da53f1e",
   "metadata": {},
   "outputs": [],
   "source": [
    "#Insights\n",
    "'''\n",
    "1: spring - 2734 days\n",
    "2: summer - 2733 days\n",
    "3: fall   - 2733 days\n",
    "4: winter - 2686 days"
   ]
  },
  {
   "cell_type": "code",
   "execution_count": 42,
   "id": "10fa0fde",
   "metadata": {},
   "outputs": [
    {
     "data": {
      "text/plain": [
       "0    10575\n",
       "1      311\n",
       "Name: holiday, dtype: int64"
      ]
     },
     "execution_count": 42,
     "metadata": {},
     "output_type": "execute_result"
    }
   ],
   "source": [
    "df.holiday.value_counts()"
   ]
  },
  {
   "cell_type": "code",
   "execution_count": null,
   "id": "6bc65cd5",
   "metadata": {},
   "outputs": [],
   "source": [
    "#Insights\n",
    "'''311 days were holidays in the given data set"
   ]
  },
  {
   "cell_type": "code",
   "execution_count": 43,
   "id": "43c213a1",
   "metadata": {},
   "outputs": [
    {
     "data": {
      "text/plain": [
       "1    7412\n",
       "0    3474\n",
       "Name: workingday, dtype: int64"
      ]
     },
     "execution_count": 43,
     "metadata": {},
     "output_type": "execute_result"
    }
   ],
   "source": [
    "df.workingday.value_counts()"
   ]
  },
  {
   "cell_type": "code",
   "execution_count": null,
   "id": "b7dcbcb1",
   "metadata": {},
   "outputs": [],
   "source": [
    "#Insights\n",
    "''' 7412 days were working days in the deta set'''"
   ]
  },
  {
   "cell_type": "code",
   "execution_count": 44,
   "id": "8b096d7b",
   "metadata": {},
   "outputs": [
    {
     "data": {
      "text/plain": [
       "1    7192\n",
       "2    2834\n",
       "3     859\n",
       "4       1\n",
       "Name: weather, dtype: int64"
      ]
     },
     "execution_count": 44,
     "metadata": {},
     "output_type": "execute_result"
    }
   ],
   "source": [
    "df.weather.value_counts()"
   ]
  },
  {
   "cell_type": "code",
   "execution_count": null,
   "id": "c03ef42b",
   "metadata": {},
   "outputs": [],
   "source": [
    "#Insights\n",
    "'''\n",
    "7192 days (1) were Clear, Few clouds, partly cloudy, partly cloudy\n",
    "2834 days (2): Mist + Cloudy, Mist + Broken clouds, Mist + Few clouds, Mist\n",
    "859 days (3): Light Snow, Light Rain + Thunderstorm + Scattered clouds, Light Rain + Scattered clouds\n",
    "1 days (4): Heavy Rain + Ice Pallets + Thunderstorm + Mist, Snow + Fog (insufficient data to get any conclusion in hypothesis testing)"
   ]
  },
  {
   "cell_type": "markdown",
   "id": "b37bd889",
   "metadata": {},
   "source": [
    "# Try establishing a relation between the dependent and independent variable \n",
    "#(Dependent “Count” & Independent: Workingday, Weather, Season etc)"
   ]
  },
  {
   "cell_type": "code",
   "execution_count": 45,
   "id": "2ca2a058",
   "metadata": {},
   "outputs": [],
   "source": [
    "import seaborn as sbn"
   ]
  },
  {
   "cell_type": "code",
   "execution_count": 46,
   "id": "17e34ca4",
   "metadata": {},
   "outputs": [
    {
     "data": {
      "text/plain": [
       "<AxesSubplot:xlabel='season', ylabel='count'>"
      ]
     },
     "execution_count": 46,
     "metadata": {},
     "output_type": "execute_result"
    },
    {
     "data": {
      "image/png": "[encoded data removed]",
      "text/plain": [
       "<Figure size 432x288 with 1 Axes>"
      ]
     },
     "metadata": {
      "needs_background": "light"
     },
     "output_type": "display_data"
    }
   ],
   "source": [
    "sbn.boxplot(x='season',y='count',data=df)"
   ]
  },
  {
   "cell_type": "code",
   "execution_count": null,
   "id": "2b824170",
   "metadata": {},
   "outputs": [],
   "source": [
    "#Insights\n",
    "''' Spring season has least number of rides in all seasons compared. also has most outliers.\n",
    "    most rides came under 'fall-season' ''\n"
   ]
  },
  {
   "cell_type": "code",
   "execution_count": 47,
   "id": "fee8efac",
   "metadata": {},
   "outputs": [
    {
     "data": {
      "text/plain": [
       "<AxesSubplot:xlabel='weather', ylabel='count'>"
      ]
     },
     "execution_count": 47,
     "metadata": {},
     "output_type": "execute_result"
    },
    {
     "data": {
      "image/png": "[encoded data removed]",
      "text/plain": [
       "<Figure size 432x288 with 1 Axes>"
      ]
     },
     "metadata": {
      "needs_background": "light"
     },
     "output_type": "display_data"
    }
   ],
   "source": [
    "sbn.boxplot(x='weather',y='count',data=df)"
   ]
  },
  {
   "cell_type": "code",
   "execution_count": null,
   "id": "1901a289",
   "metadata": {},
   "outputs": [],
   "source": [
    "#Insights\n",
    "'''weather 4-'Heavy Rain + Ice Pallets + Thunderstorm + Mist, Snow + Fog' has single data only, no conclusion could be withdrew with is data. \n",
    "Most of the days when weather was Clear, Few clouds, partly cloudy, partly cloudy people took most rides'''"
   ]
  },
  {
   "cell_type": "code",
   "execution_count": 48,
   "id": "e1f123e2",
   "metadata": {
    "scrolled": true
   },
   "outputs": [
    {
     "data": {
      "text/plain": [
       "<AxesSubplot:xlabel='holiday', ylabel='count'>"
      ]
     },
     "execution_count": 48,
     "metadata": {},
     "output_type": "execute_result"
    },
    {
     "data": {
      "image/png": "[encoded data removed]",
      "text/plain": [
       "<Figure size 432x288 with 1 Axes>"
      ]
     },
     "metadata": {
      "needs_background": "light"
     },
     "output_type": "display_data"
    }
   ],
   "source": [
    "sbn.boxplot(x='holiday',y='count',data=df)"
   ]
  },
  {
   "cell_type": "code",
   "execution_count": null,
   "id": "813ed1bd",
   "metadata": {},
   "outputs": [],
   "source": [
    "#Insights \n",
    "'''non holiday has most outliers'''\n",
    "\"\"\"median is very close so will do hypothesis testing to conclude any result\"\"\""
   ]
  },
  {
   "cell_type": "code",
   "execution_count": 51,
   "id": "568bcb5d",
   "metadata": {},
   "outputs": [
    {
     "data": {
      "text/plain": [
       "<AxesSubplot:xlabel='casual', ylabel='count'>"
      ]
     },
     "execution_count": 51,
     "metadata": {},
     "output_type": "execute_result"
    },
    {
     "data": {
      "image/png": "[encoded data removed]",
      "text/plain": [
       "<Figure size 432x288 with 1 Axes>"
      ]
     },
     "metadata": {
      "needs_background": "light"
     },
     "output_type": "display_data"
    }
   ],
   "source": [
    "sbn.lineplot(x='casual',y='count',data=df)"
   ]
  },
  {
   "cell_type": "code",
   "execution_count": 52,
   "id": "dda713bd",
   "metadata": {},
   "outputs": [
    {
     "data": {
      "text/plain": [
       "<AxesSubplot:xlabel='registered', ylabel='count'>"
      ]
     },
     "execution_count": 52,
     "metadata": {},
     "output_type": "execute_result"
    },
    {
     "data": {
      "image/png": "[encoded data removed]",
      "text/plain": [
       "<Figure size 432x288 with 1 Axes>"
      ]
     },
     "metadata": {
      "needs_background": "light"
     },
     "output_type": "display_data"
    }
   ],
   "source": [
    "sbn.lineplot(x='registered',y='count',data=df)"
   ]
  },
  {
   "cell_type": "code",
   "execution_count": null,
   "id": "8cb7b5cb",
   "metadata": {},
   "outputs": [],
   "source": [
    "#Insights\n",
    "\"\"\"registered user rides has grown linear\"\"\""
   ]
  },
  {
   "cell_type": "code",
   "execution_count": 49,
   "id": "c6a56363",
   "metadata": {},
   "outputs": [
    {
     "data": {
      "text/plain": [
       "<AxesSubplot:xlabel='workingday', ylabel='count'>"
      ]
     },
     "execution_count": 49,
     "metadata": {},
     "output_type": "execute_result"
    },
    {
     "data": {
      "image/png": "[encoded data removed]",
      "text/plain": [
       "<Figure size 432x288 with 1 Axes>"
      ]
     },
     "metadata": {
      "needs_background": "light"
     },
     "output_type": "display_data"
    }
   ],
   "source": [
    "sbn.boxplot(x='workingday',y='count',data=df)"
   ]
  },
  {
   "cell_type": "code",
   "execution_count": null,
   "id": "e0dd8e53",
   "metadata": {},
   "outputs": [],
   "source": [
    "#Insights\n",
    "'''working days has more outliers'''\n"
   ]
  },
  {
   "cell_type": "markdown",
   "id": "2491e1c5",
   "metadata": {},
   "source": [
    "# A) Working Day effect on number of electric cycles rented"
   ]
  },
  {
   "cell_type": "markdown",
   "id": "c1fb876c",
   "metadata": {},
   "source": [
    "# '''2-Sample T-Test \n",
    "Hypothesis:-\n",
    "\n",
    "H0= The number of bicycles rentend during non-working day <= the numbers on working day\n",
    "\n",
    "H1=The number of bicycles rentend during non-working day > the numbers on working day\n",
    "\n",
    "alpha(significance level)=0.05 '''"
   ]
  },
  {
   "cell_type": "code",
   "execution_count": 57,
   "id": "d25da9f6",
   "metadata": {},
   "outputs": [
    {
     "data": {
      "text/html": [
       "<div>\n",
       "<style scoped>\n",
       "    .dataframe tbody tr th:only-of-type {\n",
       "        vertical-align: middle;\n",
       "    }\n",
       "\n",
       "    .dataframe tbody tr th {\n",
       "        vertical-align: top;\n",
       "    }\n",
       "\n",
       "    .dataframe thead th {\n",
       "        text-align: right;\n",
       "    }\n",
       "</style>\n",
       "<table border=\"1\" class=\"dataframe\">\n",
       "  <thead>\n",
       "    <tr style=\"text-align: right;\">\n",
       "      <th></th>\n",
       "      <th>count</th>\n",
       "      <th>mean</th>\n",
       "      <th>std</th>\n",
       "      <th>min</th>\n",
       "      <th>25%</th>\n",
       "      <th>50%</th>\n",
       "      <th>75%</th>\n",
       "      <th>max</th>\n",
       "    </tr>\n",
       "    <tr>\n",
       "      <th>workingday</th>\n",
       "      <th></th>\n",
       "      <th></th>\n",
       "      <th></th>\n",
       "      <th></th>\n",
       "      <th></th>\n",
       "      <th></th>\n",
       "      <th></th>\n",
       "      <th></th>\n",
       "    </tr>\n",
       "  </thead>\n",
       "  <tbody>\n",
       "    <tr>\n",
       "      <th>0</th>\n",
       "      <td>3474.0</td>\n",
       "      <td>188.506621</td>\n",
       "      <td>173.724015</td>\n",
       "      <td>1.0</td>\n",
       "      <td>44.0</td>\n",
       "      <td>128.0</td>\n",
       "      <td>304.0</td>\n",
       "      <td>783.0</td>\n",
       "    </tr>\n",
       "    <tr>\n",
       "      <th>1</th>\n",
       "      <td>7412.0</td>\n",
       "      <td>193.011873</td>\n",
       "      <td>184.513659</td>\n",
       "      <td>1.0</td>\n",
       "      <td>41.0</td>\n",
       "      <td>151.0</td>\n",
       "      <td>277.0</td>\n",
       "      <td>977.0</td>\n",
       "    </tr>\n",
       "  </tbody>\n",
       "</table>\n",
       "</div>"
      ],
      "text/plain": [
       "             count        mean         std  min   25%    50%    75%    max\n",
       "workingday                                                                \n",
       "0           3474.0  188.506621  173.724015  1.0  44.0  128.0  304.0  783.0\n",
       "1           7412.0  193.011873  184.513659  1.0  41.0  151.0  277.0  977.0"
      ]
     },
     "execution_count": 57,
     "metadata": {},
     "output_type": "execute_result"
    }
   ],
   "source": [
    "df.groupby('workingday')['count'].describe()"
   ]
  },
  {
   "cell_type": "code",
   "execution_count": 120,
   "id": "e7f82218",
   "metadata": {},
   "outputs": [],
   "source": [
    "#will use t-test as there is only 2 parameters\n",
    "\n",
    "from scipy.stats import ttest_ind"
   ]
  },
  {
   "cell_type": "code",
   "execution_count": 121,
   "id": "a3cdc099",
   "metadata": {},
   "outputs": [],
   "source": [
    "working_day=df[df['workingday']==1]['count']\n",
    "non_working_day=df[df['workingday']==0]['count']"
   ]
  },
  {
   "cell_type": "code",
   "execution_count": 122,
   "id": "eb97cbfa",
   "metadata": {},
   "outputs": [],
   "source": [
    "test_stats, p_value= ttest_ind(non_working_day, working_day, equal_var=False, alternative=\"greater\")"
   ]
  },
  {
   "cell_type": "code",
   "execution_count": 123,
   "id": "8e9c3eab",
   "metadata": {},
   "outputs": [
    {
     "data": {
      "text/plain": [
       "0.8917984385965245"
      ]
     },
     "execution_count": 123,
     "metadata": {},
     "output_type": "execute_result"
    }
   ],
   "source": [
    "p_value"
   ]
  },
  {
   "cell_type": "code",
   "execution_count": 124,
   "id": "0ce795a4",
   "metadata": {},
   "outputs": [
    {
     "data": {
      "text/plain": [
       "False"
      ]
     },
     "execution_count": 124,
     "metadata": {},
     "output_type": "execute_result"
    }
   ],
   "source": [
    "p_value<0.05"
   ]
  },
  {
   "cell_type": "code",
   "execution_count": 108,
   "id": "4c62b170",
   "metadata": {},
   "outputs": [
    {
     "data": {
      "text/plain": [
       "\"Since pvalue is greater than 0.05 so we can not reject the Null hypothesis.ie We don't have the sufficient \\nevidence to say that 'the number of bicycles rentend during non-working day is <= to the numbers on working day.\""
      ]
     },
     "execution_count": 108,
     "metadata": {},
     "output_type": "execute_result"
    }
   ],
   "source": [
    "# insight\n",
    "\"\"\"fail to reject H0\"\"\"\n",
    "'''we can say that number of electic veicle rented on working day is higher than non_working day'''\n",
    "'''Since pvalue is greater than 0.05 so we can not reject the Null hypothesis.ie We don't have the sufficient \n",
    "evidence to say that 'the number of bicycles rentend during non-working day is <= to the numbers on working day.'''"
   ]
  },
  {
   "cell_type": "code",
   "execution_count": null,
   "id": "49a67aea",
   "metadata": {},
   "outputs": [],
   "source": []
  },
  {
   "cell_type": "markdown",
   "id": "fc4532b4",
   "metadata": {},
   "source": [
    "# Holiday effect on number of electric cycles rented"
   ]
  },
  {
   "cell_type": "markdown",
   "id": "6e795378",
   "metadata": {},
   "source": [
    "# '''2-Sample T-Test \n",
    "\n",
    "Hypothesis \n",
    "\n",
    "H0= The number of bicycles rentend during holiday <= the numbers on workingday\n",
    "\n",
    "H1=The number of bicycles rentend during holiday > the numbers on working day\n",
    "\n",
    "alpha(significance level)=0.05 '''"
   ]
  },
  {
   "cell_type": "code",
   "execution_count": 75,
   "id": "a6e4cf49",
   "metadata": {},
   "outputs": [],
   "source": [
    "holiday=df[df['holiday']==1]['count']\n",
    "non_holiday=df[df['holiday']==0]['count']"
   ]
  },
  {
   "cell_type": "code",
   "execution_count": 76,
   "id": "9da33f39",
   "metadata": {},
   "outputs": [],
   "source": [
    "test_stats,p_value=ttest_ind(non_holiday,holiday,equal_var=False, alternative='greater' )"
   ]
  },
  {
   "cell_type": "code",
   "execution_count": 77,
   "id": "8a57ef2b",
   "metadata": {},
   "outputs": [
    {
     "data": {
      "text/plain": [
       "0.2730654966802739"
      ]
     },
     "execution_count": 77,
     "metadata": {},
     "output_type": "execute_result"
    }
   ],
   "source": [
    "p_value"
   ]
  },
  {
   "cell_type": "code",
   "execution_count": 78,
   "id": "903d31e0",
   "metadata": {},
   "outputs": [
    {
     "data": {
      "text/plain": [
       "True"
      ]
     },
     "execution_count": 78,
     "metadata": {},
     "output_type": "execute_result"
    }
   ],
   "source": [
    "p_value>0.05"
   ]
  },
  {
   "cell_type": "markdown",
   "id": "950939ee",
   "metadata": {},
   "source": [
    "#insight:-\n",
    "Since pvalue is greater than 0.05 so we can not reject the Null hypothesis.\n",
    "We don't have the sufficient evidence to say that holiday day has effect on the number of cycles being rented."
   ]
  },
  {
   "cell_type": "code",
   "execution_count": null,
   "id": "d3f5af51",
   "metadata": {},
   "outputs": [],
   "source": []
  },
  {
   "cell_type": "markdown",
   "id": "812b2686",
   "metadata": {},
   "source": [
    "# B) No. of cycles rented similar or different in different Weather"
   ]
  },
  {
   "cell_type": "markdown",
   "id": "6b905ff0",
   "metadata": {},
   "source": [
    "# '''Hypothesis \n",
    "\n",
    "H0: Number of cycles rented is similar in different weather.\n",
    "\n",
    "H1: Number of cycles rented is not similar in different weather.\n",
    "\n",
    "Significance level (alpha): 0.05'''"
   ]
  },
  {
   "cell_type": "markdown",
   "id": "fa638247",
   "metadata": {},
   "source": [
    "# Here, we will use the ANNOVA to test as parameters are more than 2\n",
    "\n",
    "assumptions:-\n",
    "\n",
    "    1) the given data set has each samples independent and identically distributed (iid).\n",
    "    \n",
    "    2) variance should be equal\n",
    "    \n",
    "but before that let chek the normality and the variance of the given data to chek if ANNOVA is applicable or not"
   ]
  },
  {
   "cell_type": "markdown",
   "id": "82f0f937",
   "metadata": {},
   "source": [
    "# B.1) cheking nomality of the weather distribution-\n",
    "    "
   ]
  },
  {
   "cell_type": "code",
   "execution_count": 81,
   "id": "dcdf524f",
   "metadata": {},
   "outputs": [
    {
     "data": {
      "text/html": [
       "<div>\n",
       "<style scoped>\n",
       "    .dataframe tbody tr th:only-of-type {\n",
       "        vertical-align: middle;\n",
       "    }\n",
       "\n",
       "    .dataframe tbody tr th {\n",
       "        vertical-align: top;\n",
       "    }\n",
       "\n",
       "    .dataframe thead th {\n",
       "        text-align: right;\n",
       "    }\n",
       "</style>\n",
       "<table border=\"1\" class=\"dataframe\">\n",
       "  <thead>\n",
       "    <tr style=\"text-align: right;\">\n",
       "      <th></th>\n",
       "      <th>count</th>\n",
       "      <th>mean</th>\n",
       "      <th>std</th>\n",
       "      <th>min</th>\n",
       "      <th>25%</th>\n",
       "      <th>50%</th>\n",
       "      <th>75%</th>\n",
       "      <th>max</th>\n",
       "    </tr>\n",
       "    <tr>\n",
       "      <th>weather</th>\n",
       "      <th></th>\n",
       "      <th></th>\n",
       "      <th></th>\n",
       "      <th></th>\n",
       "      <th></th>\n",
       "      <th></th>\n",
       "      <th></th>\n",
       "      <th></th>\n",
       "    </tr>\n",
       "  </thead>\n",
       "  <tbody>\n",
       "    <tr>\n",
       "      <th>1</th>\n",
       "      <td>7192.0</td>\n",
       "      <td>205.236791</td>\n",
       "      <td>187.959566</td>\n",
       "      <td>1.0</td>\n",
       "      <td>48.0</td>\n",
       "      <td>161.0</td>\n",
       "      <td>305.0</td>\n",
       "      <td>977.0</td>\n",
       "    </tr>\n",
       "    <tr>\n",
       "      <th>2</th>\n",
       "      <td>2834.0</td>\n",
       "      <td>178.955540</td>\n",
       "      <td>168.366413</td>\n",
       "      <td>1.0</td>\n",
       "      <td>41.0</td>\n",
       "      <td>134.0</td>\n",
       "      <td>264.0</td>\n",
       "      <td>890.0</td>\n",
       "    </tr>\n",
       "    <tr>\n",
       "      <th>3</th>\n",
       "      <td>859.0</td>\n",
       "      <td>118.846333</td>\n",
       "      <td>138.581297</td>\n",
       "      <td>1.0</td>\n",
       "      <td>23.0</td>\n",
       "      <td>71.0</td>\n",
       "      <td>161.0</td>\n",
       "      <td>891.0</td>\n",
       "    </tr>\n",
       "    <tr>\n",
       "      <th>4</th>\n",
       "      <td>1.0</td>\n",
       "      <td>164.000000</td>\n",
       "      <td>NaN</td>\n",
       "      <td>164.0</td>\n",
       "      <td>164.0</td>\n",
       "      <td>164.0</td>\n",
       "      <td>164.0</td>\n",
       "      <td>164.0</td>\n",
       "    </tr>\n",
       "  </tbody>\n",
       "</table>\n",
       "</div>"
      ],
      "text/plain": [
       "          count        mean         std    min    25%    50%    75%    max\n",
       "weather                                                                   \n",
       "1        7192.0  205.236791  187.959566    1.0   48.0  161.0  305.0  977.0\n",
       "2        2834.0  178.955540  168.366413    1.0   41.0  134.0  264.0  890.0\n",
       "3         859.0  118.846333  138.581297    1.0   23.0   71.0  161.0  891.0\n",
       "4           1.0  164.000000         NaN  164.0  164.0  164.0  164.0  164.0"
      ]
     },
     "execution_count": 81,
     "metadata": {},
     "output_type": "execute_result"
    }
   ],
   "source": [
    "df.groupby('weather')['count'].describe()"
   ]
  },
  {
   "cell_type": "code",
   "execution_count": null,
   "id": "0d1f72d9",
   "metadata": {},
   "outputs": [],
   "source": [
    "'''varience is different - weather 4 type has only one sample so we will not be considering this in the analysis as \n",
    "data is insufficient to conduct any analysis."
   ]
  },
  {
   "cell_type": "code",
   "execution_count": 106,
   "id": "596d9186",
   "metadata": {},
   "outputs": [],
   "source": [
    "w1=df[df['weather']==1]['count']\n",
    "w2=df[df['weather']==2]['count']\n",
    "w3=df[df['weather']==3]['count']"
   ]
  },
  {
   "cell_type": "code",
   "execution_count": 84,
   "id": "c3903046",
   "metadata": {},
   "outputs": [
    {
     "data": {
      "text/plain": [
       "<seaborn.axisgrid.FacetGrid at 0x7f901906aa30>"
      ]
     },
     "execution_count": 84,
     "metadata": {},
     "output_type": "execute_result"
    },
    {
     "data": {
      "image/png": "[encoded data removed]",
      "text/plain": [
       "<Figure size 360x360 with 1 Axes>"
      ]
     },
     "metadata": {
      "needs_background": "light"
     },
     "output_type": "display_data"
    }
   ],
   "source": [
    "sbn.displot(w1)"
   ]
  },
  {
   "cell_type": "code",
   "execution_count": 99,
   "id": "d6a8108a",
   "metadata": {},
   "outputs": [
    {
     "data": {
      "text/plain": [
       "<seaborn.axisgrid.FacetGrid at 0x7f902a614340>"
      ]
     },
     "execution_count": 99,
     "metadata": {},
     "output_type": "execute_result"
    },
    {
     "data": {
      "image/png": "[encoded data removed]",
      "text/plain": [
       "<Figure size 360x360 with 1 Axes>"
      ]
     },
     "metadata": {
      "needs_background": "light"
     },
     "output_type": "display_data"
    }
   ],
   "source": [
    "sbn.displot(w2)"
   ]
  },
  {
   "cell_type": "code",
   "execution_count": 101,
   "id": "d5332ff7",
   "metadata": {},
   "outputs": [
    {
     "data": {
      "text/plain": [
       "<seaborn.axisgrid.FacetGrid at 0x7f905b854460>"
      ]
     },
     "execution_count": 101,
     "metadata": {},
     "output_type": "execute_result"
    },
    {
     "data": {
      "image/png": "[encoded data removed]",
      "text/plain": [
       "<Figure size 360x360 with 1 Axes>"
      ]
     },
     "metadata": {
      "needs_background": "light"
     },
     "output_type": "display_data"
    }
   ],
   "source": [
    "sbn.displot(w3)"
   ]
  },
  {
   "cell_type": "code",
   "execution_count": 87,
   "id": "36dee836",
   "metadata": {},
   "outputs": [
    {
     "data": {
      "text/plain": [
       "<seaborn.axisgrid.FacetGrid at 0x7f90189e41c0>"
      ]
     },
     "execution_count": 87,
     "metadata": {},
     "output_type": "execute_result"
    },
    {
     "data": {
      "image/png": "[encoded data removed]",
      "text/plain": [
       "<Figure size 360x360 with 1 Axes>"
      ]
     },
     "metadata": {
      "needs_background": "light"
     },
     "output_type": "display_data"
    }
   ],
   "source": [
    "sbn.displot(np.log(w1))"
   ]
  },
  {
   "cell_type": "code",
   "execution_count": 88,
   "id": "d9d281e1",
   "metadata": {},
   "outputs": [
    {
     "data": {
      "text/plain": [
       "<seaborn.axisgrid.FacetGrid at 0x7f90306842b0>"
      ]
     },
     "execution_count": 88,
     "metadata": {},
     "output_type": "execute_result"
    },
    {
     "data": {
      "image/png": "[encoded data removed]",
      "text/plain": [
       "<Figure size 360x360 with 1 Axes>"
      ]
     },
     "metadata": {
      "needs_background": "light"
     },
     "output_type": "display_data"
    }
   ],
   "source": [
    "sbn.displot(np.log(w2))"
   ]
  },
  {
   "cell_type": "code",
   "execution_count": 89,
   "id": "b53161ac",
   "metadata": {},
   "outputs": [
    {
     "data": {
      "text/plain": [
       "<seaborn.axisgrid.FacetGrid at 0x7f901913df70>"
      ]
     },
     "execution_count": 89,
     "metadata": {},
     "output_type": "execute_result"
    },
    {
     "data": {
      "image/png": "[encoded data removed]",
      "text/plain": [
       "<Figure size 360x360 with 1 Axes>"
      ]
     },
     "metadata": {
      "needs_background": "light"
     },
     "output_type": "display_data"
    }
   ],
   "source": [
    "sbn.displot(np.log(w3))"
   ]
  },
  {
   "cell_type": "code",
   "execution_count": null,
   "id": "28008a4f",
   "metadata": {},
   "outputs": [],
   "source": [
    "Insight:- data looks like log-normally distributed"
   ]
  },
  {
   "cell_type": "code",
   "execution_count": 104,
   "id": "5354e9e1",
   "metadata": {},
   "outputs": [
    {
     "data": {
      "image/png": "[encoded data removed]",
      "text/plain": [
       "<Figure size 1152x864 with 6 Axes>"
      ]
     },
     "metadata": {
      "needs_background": "light"
     },
     "output_type": "display_data"
    }
   ],
   "source": [
    "## let chek the normality distribution for the other given paramiters\n",
    "\n",
    "parameter = ['temp', 'atemp', 'humidity', 'windspeed', 'casual', 'registered','count']\n",
    "fig, axis = plt.subplots(nrows=2, ncols=3, figsize=(16,12))\n",
    "\n",
    "index=0\n",
    "for row in range(2) :\n",
    "    for col in range(3):\n",
    "        sns.histplot(df[parameter[index]],ax=axis[row,col],kde=True)\n",
    "        index+=1\n",
    "        \n",
    "plt.show()\n"
   ]
  },
  {
   "cell_type": "markdown",
   "id": "9261482d",
   "metadata": {},
   "source": [
    "#insight:\n",
    "1)temp,atemp and humidity look close to normally distributed data\n",
    "2)casual and registered has Log Normal Distrinution\n",
    "3) windspeed shows binomial distribution"
   ]
  },
  {
   "cell_type": "code",
   "execution_count": null,
   "id": "bf0f7fcf",
   "metadata": {},
   "outputs": [],
   "source": []
  },
  {
   "cell_type": "markdown",
   "id": "fb9ebf4e",
   "metadata": {},
   "source": [
    "# B.2) shaphiro-Wilk test to chek normality\n",
    "Assumptions\n",
    "\n",
    "Observations in each sample are independent and identically distributed (iid).\n",
    "\n",
    "Interpetision:\n",
    "\n",
    "H0: the sample has a Gaussian distribution.\n",
    "\n",
    "H1: the sample does not have a Gaussian distribution."
   ]
  },
  {
   "cell_type": "code",
   "execution_count": 113,
   "id": "e9b59b40",
   "metadata": {},
   "outputs": [],
   "source": [
    "from scipy.stats import shapiro\n",
    "test_stats, p_value = shapiro(df['count'].sample(4000))"
   ]
  },
  {
   "cell_type": "code",
   "execution_count": 115,
   "id": "5e544362",
   "metadata": {},
   "outputs": [
    {
     "data": {
      "text/plain": [
       "True"
      ]
     },
     "execution_count": 115,
     "metadata": {},
     "output_type": "execute_result"
    }
   ],
   "source": [
    "p_value<0.05"
   ]
  },
  {
   "cell_type": "code",
   "execution_count": null,
   "id": "5ee2b783",
   "metadata": {},
   "outputs": [],
   "source": [
    "'''since p_value is less than significant value thus we reject null hypothesis.\n",
    "thus we can say that the sample doesnot have gaussian distribution'''"
   ]
  },
  {
   "cell_type": "code",
   "execution_count": null,
   "id": "20f03ea2",
   "metadata": {},
   "outputs": [],
   "source": []
  },
  {
   "cell_type": "markdown",
   "id": "24582c3d",
   "metadata": {},
   "source": [
    "# B.3)levene's test to chek equal variances\n",
    "Assumption:\n",
    "    1)Samples from the two samples are independent\n",
    "    \n",
    "    2)populations under consideration are normally distributed\n",
    "    \n",
    "Hypothesis:-\n",
    "\n",
    "H0: the sample has a equal Variance.\n",
    "\n",
    "H1: the sample does not have equal Variance.\n",
    "\n",
    "significant value : 0.05"
   ]
  },
  {
   "cell_type": "code",
   "execution_count": 116,
   "id": "133f7031",
   "metadata": {},
   "outputs": [],
   "source": [
    "from scipy.stats import levene\n",
    "test_stats, p_value = levene(w1,w2,w3)"
   ]
  },
  {
   "cell_type": "code",
   "execution_count": 117,
   "id": "ddf31503",
   "metadata": {},
   "outputs": [
    {
     "data": {
      "text/plain": [
       "True"
      ]
     },
     "execution_count": 117,
     "metadata": {},
     "output_type": "execute_result"
    }
   ],
   "source": [
    "p_value <0.05"
   ]
  },
  {
   "cell_type": "code",
   "execution_count": null,
   "id": "64fdb25f",
   "metadata": {},
   "outputs": [],
   "source": [
    "#Insight:\n",
    "\"\"\" since P_val is less than alpha(significant value) we reject the null hypothesis\n",
    "     the data does not have equal variance\"\"\""
   ]
  },
  {
   "cell_type": "code",
   "execution_count": null,
   "id": "ab44eb10",
   "metadata": {},
   "outputs": [],
   "source": [
    "Conclusion:- \n",
    "    since the data does not have equal variance and a normal distribution as cheked from sephero and levene test \n",
    "    we fail the basic contition to apply ANOHA test.\n",
    "    bust as in question suggested let anyway apply the ANNOVA test"
   ]
  },
  {
   "cell_type": "markdown",
   "id": "e7ce003f",
   "metadata": {},
   "source": [
    "# ANNOVA Test:- \n",
    "\n",
    "Assumptions:-\n",
    "\n",
    "Observations in each sample are independent and identically distributed (iid).\n",
    "\n",
    "Observations in each sample are normally distributed.\n",
    "\n",
    "Observations in each sample have the same variance.\n",
    "\n",
    "Interpretation:-\n",
    "\n",
    "    H0: Weather has no Effect on number of Rides.\n",
    "    \n",
    "        H1: Wether has significant effect on number of rides.\n",
    "significant value(alpha)=0.05        "
   ]
  },
  {
   "cell_type": "code",
   "execution_count": 125,
   "id": "39d85328",
   "metadata": {},
   "outputs": [],
   "source": [
    "from scipy.stats import f_oneway"
   ]
  },
  {
   "cell_type": "code",
   "execution_count": 126,
   "id": "e35a6d2c",
   "metadata": {},
   "outputs": [],
   "source": [
    "test, p_value= f_oneway(w1,w2,w3)"
   ]
  },
  {
   "cell_type": "code",
   "execution_count": 127,
   "id": "0696ca40",
   "metadata": {},
   "outputs": [
    {
     "data": {
      "text/plain": [
       "True"
      ]
     },
     "execution_count": 127,
     "metadata": {},
     "output_type": "execute_result"
    }
   ],
   "source": [
    "p_value<0.05"
   ]
  },
  {
   "cell_type": "code",
   "execution_count": null,
   "id": "0205af6f",
   "metadata": {},
   "outputs": [],
   "source": [
    "Insight:- \"\"\" since P_val is less than alpha(significant value) we reject the null hypothesis\n",
    "     ie, Weather has significant effect on number of rides booking."
   ]
  },
  {
   "cell_type": "code",
   "execution_count": null,
   "id": "efd137c0",
   "metadata": {},
   "outputs": [],
   "source": []
  },
  {
   "cell_type": "markdown",
   "id": "fdda9644",
   "metadata": {},
   "source": [
    "# C) No. of cycles rented similar or different in different Season"
   ]
  },
  {
   "cell_type": "code",
   "execution_count": 129,
   "id": "e0f7f749",
   "metadata": {},
   "outputs": [
    {
     "data": {
      "text/html": [
       "<div>\n",
       "<style scoped>\n",
       "    .dataframe tbody tr th:only-of-type {\n",
       "        vertical-align: middle;\n",
       "    }\n",
       "\n",
       "    .dataframe tbody tr th {\n",
       "        vertical-align: top;\n",
       "    }\n",
       "\n",
       "    .dataframe thead th {\n",
       "        text-align: right;\n",
       "    }\n",
       "</style>\n",
       "<table border=\"1\" class=\"dataframe\">\n",
       "  <thead>\n",
       "    <tr style=\"text-align: right;\">\n",
       "      <th></th>\n",
       "      <th>datetime</th>\n",
       "      <th>season</th>\n",
       "      <th>holiday</th>\n",
       "      <th>workingday</th>\n",
       "      <th>weather</th>\n",
       "      <th>temp</th>\n",
       "      <th>atemp</th>\n",
       "      <th>humidity</th>\n",
       "      <th>windspeed</th>\n",
       "      <th>casual</th>\n",
       "      <th>registered</th>\n",
       "      <th>count</th>\n",
       "    </tr>\n",
       "  </thead>\n",
       "  <tbody>\n",
       "    <tr>\n",
       "      <th>0</th>\n",
       "      <td>2011-01-01 00:00:00</td>\n",
       "      <td>1</td>\n",
       "      <td>0</td>\n",
       "      <td>0</td>\n",
       "      <td>1</td>\n",
       "      <td>9.84</td>\n",
       "      <td>14.395</td>\n",
       "      <td>81</td>\n",
       "      <td>0.0</td>\n",
       "      <td>3</td>\n",
       "      <td>13</td>\n",
       "      <td>16</td>\n",
       "    </tr>\n",
       "    <tr>\n",
       "      <th>1</th>\n",
       "      <td>2011-01-01 01:00:00</td>\n",
       "      <td>1</td>\n",
       "      <td>0</td>\n",
       "      <td>0</td>\n",
       "      <td>1</td>\n",
       "      <td>9.02</td>\n",
       "      <td>13.635</td>\n",
       "      <td>80</td>\n",
       "      <td>0.0</td>\n",
       "      <td>8</td>\n",
       "      <td>32</td>\n",
       "      <td>40</td>\n",
       "    </tr>\n",
       "    <tr>\n",
       "      <th>2</th>\n",
       "      <td>2011-01-01 02:00:00</td>\n",
       "      <td>1</td>\n",
       "      <td>0</td>\n",
       "      <td>0</td>\n",
       "      <td>1</td>\n",
       "      <td>9.02</td>\n",
       "      <td>13.635</td>\n",
       "      <td>80</td>\n",
       "      <td>0.0</td>\n",
       "      <td>5</td>\n",
       "      <td>27</td>\n",
       "      <td>32</td>\n",
       "    </tr>\n",
       "    <tr>\n",
       "      <th>3</th>\n",
       "      <td>2011-01-01 03:00:00</td>\n",
       "      <td>1</td>\n",
       "      <td>0</td>\n",
       "      <td>0</td>\n",
       "      <td>1</td>\n",
       "      <td>9.84</td>\n",
       "      <td>14.395</td>\n",
       "      <td>75</td>\n",
       "      <td>0.0</td>\n",
       "      <td>3</td>\n",
       "      <td>10</td>\n",
       "      <td>13</td>\n",
       "    </tr>\n",
       "    <tr>\n",
       "      <th>4</th>\n",
       "      <td>2011-01-01 04:00:00</td>\n",
       "      <td>1</td>\n",
       "      <td>0</td>\n",
       "      <td>0</td>\n",
       "      <td>1</td>\n",
       "      <td>9.84</td>\n",
       "      <td>14.395</td>\n",
       "      <td>75</td>\n",
       "      <td>0.0</td>\n",
       "      <td>0</td>\n",
       "      <td>1</td>\n",
       "      <td>1</td>\n",
       "    </tr>\n",
       "  </tbody>\n",
       "</table>\n",
       "</div>"
      ],
      "text/plain": [
       "             datetime season holiday workingday weather  temp   atemp  \\\n",
       "0 2011-01-01 00:00:00      1       0          0       1  9.84  14.395   \n",
       "1 2011-01-01 01:00:00      1       0          0       1  9.02  13.635   \n",
       "2 2011-01-01 02:00:00      1       0          0       1  9.02  13.635   \n",
       "3 2011-01-01 03:00:00      1       0          0       1  9.84  14.395   \n",
       "4 2011-01-01 04:00:00      1       0          0       1  9.84  14.395   \n",
       "\n",
       "   humidity  windspeed  casual  registered  count  \n",
       "0        81        0.0       3          13     16  \n",
       "1        80        0.0       8          32     40  \n",
       "2        80        0.0       5          27     32  \n",
       "3        75        0.0       3          10     13  \n",
       "4        75        0.0       0           1      1  "
      ]
     },
     "execution_count": 129,
     "metadata": {},
     "output_type": "execute_result"
    }
   ],
   "source": [
    "df.head(5)"
   ]
  },
  {
   "cell_type": "code",
   "execution_count": 130,
   "id": "9f937609",
   "metadata": {},
   "outputs": [
    {
     "data": {
      "text/html": [
       "<div>\n",
       "<style scoped>\n",
       "    .dataframe tbody tr th:only-of-type {\n",
       "        vertical-align: middle;\n",
       "    }\n",
       "\n",
       "    .dataframe tbody tr th {\n",
       "        vertical-align: top;\n",
       "    }\n",
       "\n",
       "    .dataframe thead th {\n",
       "        text-align: right;\n",
       "    }\n",
       "</style>\n",
       "<table border=\"1\" class=\"dataframe\">\n",
       "  <thead>\n",
       "    <tr style=\"text-align: right;\">\n",
       "      <th></th>\n",
       "      <th>count</th>\n",
       "      <th>mean</th>\n",
       "      <th>std</th>\n",
       "      <th>min</th>\n",
       "      <th>25%</th>\n",
       "      <th>50%</th>\n",
       "      <th>75%</th>\n",
       "      <th>max</th>\n",
       "    </tr>\n",
       "    <tr>\n",
       "      <th>season</th>\n",
       "      <th></th>\n",
       "      <th></th>\n",
       "      <th></th>\n",
       "      <th></th>\n",
       "      <th></th>\n",
       "      <th></th>\n",
       "      <th></th>\n",
       "      <th></th>\n",
       "    </tr>\n",
       "  </thead>\n",
       "  <tbody>\n",
       "    <tr>\n",
       "      <th>1</th>\n",
       "      <td>2686.0</td>\n",
       "      <td>116.343261</td>\n",
       "      <td>125.273974</td>\n",
       "      <td>1.0</td>\n",
       "      <td>24.0</td>\n",
       "      <td>78.0</td>\n",
       "      <td>164.0</td>\n",
       "      <td>801.0</td>\n",
       "    </tr>\n",
       "    <tr>\n",
       "      <th>2</th>\n",
       "      <td>2733.0</td>\n",
       "      <td>215.251372</td>\n",
       "      <td>192.007843</td>\n",
       "      <td>1.0</td>\n",
       "      <td>49.0</td>\n",
       "      <td>172.0</td>\n",
       "      <td>321.0</td>\n",
       "      <td>873.0</td>\n",
       "    </tr>\n",
       "    <tr>\n",
       "      <th>3</th>\n",
       "      <td>2733.0</td>\n",
       "      <td>234.417124</td>\n",
       "      <td>197.151001</td>\n",
       "      <td>1.0</td>\n",
       "      <td>68.0</td>\n",
       "      <td>195.0</td>\n",
       "      <td>347.0</td>\n",
       "      <td>977.0</td>\n",
       "    </tr>\n",
       "    <tr>\n",
       "      <th>4</th>\n",
       "      <td>2734.0</td>\n",
       "      <td>198.988296</td>\n",
       "      <td>177.622409</td>\n",
       "      <td>1.0</td>\n",
       "      <td>51.0</td>\n",
       "      <td>161.0</td>\n",
       "      <td>294.0</td>\n",
       "      <td>948.0</td>\n",
       "    </tr>\n",
       "  </tbody>\n",
       "</table>\n",
       "</div>"
      ],
      "text/plain": [
       "         count        mean         std  min   25%    50%    75%    max\n",
       "season                                                                \n",
       "1       2686.0  116.343261  125.273974  1.0  24.0   78.0  164.0  801.0\n",
       "2       2733.0  215.251372  192.007843  1.0  49.0  172.0  321.0  873.0\n",
       "3       2733.0  234.417124  197.151001  1.0  68.0  195.0  347.0  977.0\n",
       "4       2734.0  198.988296  177.622409  1.0  51.0  161.0  294.0  948.0"
      ]
     },
     "execution_count": 130,
     "metadata": {},
     "output_type": "execute_result"
    }
   ],
   "source": [
    "df.groupby('season')['count'].describe()"
   ]
  },
  {
   "cell_type": "code",
   "execution_count": 132,
   "id": "aae563c9",
   "metadata": {},
   "outputs": [],
   "source": [
    "s1=df[df['season']==1]['count']\n",
    "s2=df[df['season']==2]['count']\n",
    "s3=df[df['season']==3]['count']\n",
    "s4=df[df['season']==4]['count']"
   ]
  },
  {
   "cell_type": "markdown",
   "id": "f46b4c1c",
   "metadata": {},
   "source": [
    "# To check the dependency of rides to seasons- applying ANNOVA test\n",
    "\n",
    "Assumptions:-\n",
    "    \n",
    "Observations in each sample are independent and identically distributed (iid).\n",
    "\n",
    "Observations in each sample are normally distributed.\n",
    "\n",
    "Observations in each sample have the same variance.\n",
    "\n",
    "Interpretation:-\n",
    "\n",
    "    H0: Season has no Effect on number of Rides booking.\n",
    "\n",
    "        H1: Season has significant effect on number of Rides booking.\n",
    "        \n",
    "significant value(alpha)=0.05        "
   ]
  },
  {
   "cell_type": "code",
   "execution_count": 133,
   "id": "c43b52f0",
   "metadata": {},
   "outputs": [],
   "source": [
    "test, p_value= f_oneway(s1,s2,s3,s4)"
   ]
  },
  {
   "cell_type": "code",
   "execution_count": 135,
   "id": "d9c63638",
   "metadata": {},
   "outputs": [
    {
     "data": {
      "text/plain": [
       "True"
      ]
     },
     "execution_count": 135,
     "metadata": {},
     "output_type": "execute_result"
    }
   ],
   "source": [
    "p_value<0.05"
   ]
  },
  {
   "cell_type": "code",
   "execution_count": null,
   "id": "8371a39d",
   "metadata": {},
   "outputs": [],
   "source": [
    "Insight:- \"\"\" since P_val is less than alpha(significant value) we reject the null hypothesis\n",
    "     ie, Seasons has significant effect on number of Rides Booking."
   ]
  },
  {
   "cell_type": "code",
   "execution_count": null,
   "id": "e8870c34",
   "metadata": {},
   "outputs": [],
   "source": []
  },
  {
   "cell_type": "markdown",
   "id": "8256170c",
   "metadata": {},
   "source": [
    "# D) Weather is dependent on season (check between 2 predictor variable)"
   ]
  },
  {
   "cell_type": "markdown",
   "id": "159e672b",
   "metadata": {},
   "source": [
    "# To thest this we will use \"chi-square test\"\n",
    "\n",
    "Assumptions:-\n",
    "\n",
    "1)Both variables are categorical\n",
    "\n",
    "2)Observations are independent.\n",
    "\n",
    "3)contingency table are mutually exclusive.\n",
    "\n",
    "4)Expected value of cells should be 5 or greater in at least 80% of cells.\n",
    "\n",
    "\n",
    "Hypothesis:-\n",
    "\n",
    "H0: Weather is independent of the season\n",
    "\n",
    "H1: Weather is not independent of the season\n",
    "\n",
    "Significance level (alpha): 0.05\n"
   ]
  },
  {
   "cell_type": "code",
   "execution_count": 145,
   "id": "e000482d",
   "metadata": {},
   "outputs": [
    {
     "data": {
      "text/html": [
       "<div>\n",
       "<style scoped>\n",
       "    .dataframe tbody tr th:only-of-type {\n",
       "        vertical-align: middle;\n",
       "    }\n",
       "\n",
       "    .dataframe tbody tr th {\n",
       "        vertical-align: top;\n",
       "    }\n",
       "\n",
       "    .dataframe thead th {\n",
       "        text-align: right;\n",
       "    }\n",
       "</style>\n",
       "<table border=\"1\" class=\"dataframe\">\n",
       "  <thead>\n",
       "    <tr style=\"text-align: right;\">\n",
       "      <th>weather</th>\n",
       "      <th>1</th>\n",
       "      <th>2</th>\n",
       "      <th>3</th>\n",
       "      <th>4</th>\n",
       "    </tr>\n",
       "    <tr>\n",
       "      <th>season</th>\n",
       "      <th></th>\n",
       "      <th></th>\n",
       "      <th></th>\n",
       "      <th></th>\n",
       "    </tr>\n",
       "  </thead>\n",
       "  <tbody>\n",
       "    <tr>\n",
       "      <th>1</th>\n",
       "      <td>1759</td>\n",
       "      <td>715</td>\n",
       "      <td>211</td>\n",
       "      <td>1</td>\n",
       "    </tr>\n",
       "    <tr>\n",
       "      <th>2</th>\n",
       "      <td>1801</td>\n",
       "      <td>708</td>\n",
       "      <td>224</td>\n",
       "      <td>0</td>\n",
       "    </tr>\n",
       "    <tr>\n",
       "      <th>3</th>\n",
       "      <td>1930</td>\n",
       "      <td>604</td>\n",
       "      <td>199</td>\n",
       "      <td>0</td>\n",
       "    </tr>\n",
       "    <tr>\n",
       "      <th>4</th>\n",
       "      <td>1702</td>\n",
       "      <td>807</td>\n",
       "      <td>225</td>\n",
       "      <td>0</td>\n",
       "    </tr>\n",
       "  </tbody>\n",
       "</table>\n",
       "</div>"
      ],
      "text/plain": [
       "weather     1    2    3  4\n",
       "season                    \n",
       "1        1759  715  211  1\n",
       "2        1801  708  224  0\n",
       "3        1930  604  199  0\n",
       "4        1702  807  225  0"
      ]
     },
     "execution_count": 145,
     "metadata": {},
     "output_type": "execute_result"
    }
   ],
   "source": [
    "data_table = pd.crosstab(df['season'], df['weather'])\n",
    "data_table"
   ]
  },
  {
   "cell_type": "code",
   "execution_count": 146,
   "id": "c7259b43",
   "metadata": {},
   "outputs": [],
   "source": [
    "from scipy.stats import chi2_contingency"
   ]
  },
  {
   "cell_type": "code",
   "execution_count": 143,
   "id": "ff90b988",
   "metadata": {},
   "outputs": [
    {
     "data": {
      "text/plain": [
       "1.549925073686492e-07"
      ]
     },
     "execution_count": 143,
     "metadata": {},
     "output_type": "execute_result"
    }
   ],
   "source": [
    "stat, p, dof, expected = chi2_contingency(data_table)\n",
    "p"
   ]
  },
  {
   "cell_type": "code",
   "execution_count": 150,
   "id": "ba23850c",
   "metadata": {},
   "outputs": [
    {
     "name": "stdout",
     "output_type": "stream",
     "text": [
      "Probably Weather is independent of the season\n"
     ]
    }
   ],
   "source": [
    "if p < 0.05:\n",
    " print('Probably Weather is independent of the season')\n",
    "else:\n",
    " print('Probably Weather is not independent of the season')"
   ]
  },
  {
   "cell_type": "code",
   "execution_count": null,
   "id": "47172220",
   "metadata": {},
   "outputs": [],
   "source": [
    "'''Insight:-\n",
    "    since p_value is less than alpha null hypothesis is true. Wether is independent of season "
   ]
  },
  {
   "cell_type": "code",
   "execution_count": null,
   "id": "8cc597fb",
   "metadata": {},
   "outputs": [],
   "source": []
  },
  {
   "cell_type": "code",
   "execution_count": null,
   "id": "b556cefb",
   "metadata": {},
   "outputs": [],
   "source": []
  },
  {
   "cell_type": "markdown",
   "id": "e4f4f68b",
   "metadata": {},
   "source": [
    "# Recommendations:- \n",
    "1)In summer and fall seasons rides are more so can increses more number of veiches for more business.\n",
    "2)cost cutting could be done on very low humid days as the demand is very less on those days.\n",
    "3)finding on workingday has no effect on the number of bikes being rented, so company can run promotional campainings to increse the number of rides by giving discounts or giving rewards."
   ]
  },
  {
   "cell_type": "code",
   "execution_count": null,
   "id": "7924475b",
   "metadata": {},
   "outputs": [],
   "source": []
  },
  {
   "cell_type": "code",
   "execution_count": null,
   "id": "8771806f",
   "metadata": {},
   "outputs": [],
   "source": []
  },
  {
   "cell_type": "code",
   "execution_count": null,
   "id": "e7ad8505",
   "metadata": {},
   "outputs": [],
   "source": []
  },
  {
   "cell_type": "code",
   "execution_count": null,
   "id": "c0039a7e",
   "metadata": {},
   "outputs": [],
   "source": []
  },
  {
   "cell_type": "code",
   "execution_count": null,
   "id": "f777ef0c",
   "metadata": {},
   "outputs": [],
   "source": []
  },
  {
   "cell_type": "code",
   "execution_count": null,
   "id": "703e25d7",
   "metadata": {},
   "outputs": [],
   "source": []
  },
  {
   "cell_type": "code",
   "execution_count": null,
   "id": "352c876f",
   "metadata": {},
   "outputs": [],
   "source": []
  },
  {
   "cell_type": "code",
   "execution_count": null,
   "id": "59e2ad2b",
   "metadata": {},
   "outputs": [],
   "source": []
  },
  {
   "cell_type": "code",
   "execution_count": null,
   "id": "9fb0cfcc",
   "metadata": {},
   "outputs": [],
   "source": []
  },
  {
   "cell_type": "code",
   "execution_count": null,
   "id": "057a0daf",
   "metadata": {},
   "outputs": [],
   "source": []
  },
  {
   "cell_type": "code",
   "execution_count": null,
   "id": "4529ceed",
   "metadata": {},
   "outputs": [],
   "source": []
  },
  {
   "cell_type": "code",
   "execution_count": null,
   "id": "25522912",
   "metadata": {},
   "outputs": [],
   "source": []
  },
  {
   "cell_type": "code",
   "execution_count": null,
   "id": "f79243bb",
   "metadata": {},
   "outputs": [],
   "source": []
  },
  {
   "cell_type": "code",
   "execution_count": null,
   "id": "f338d8fb",
   "metadata": {},
   "outputs": [],
   "source": []
  },
  {
   "cell_type": "code",
   "execution_count": null,
   "id": "503c7747",
   "metadata": {},
   "outputs": [],
   "source": []
  },
  {
   "cell_type": "code",
   "execution_count": null,
   "id": "4ef68168",
   "metadata": {},
   "outputs": [],
   "source": []
  }
 ],
 "metadata": {
  "kernelspec": {
   "display_name": "Python 3 (ipykernel)",
   "language": "python",
   "name": "python3"
  },
  "language_info": {
   "codemirror_mode": {
    "name": "ipython",
    "version": 3
   },
   "file_extension": ".py",
   "mimetype": "text/x-python",
   "name": "python",
   "nbconvert_exporter": "python",
   "pygments_lexer": "ipython3",
   "version": "3.9.12"
  }
 },
 "nbformat": 4,
 "nbformat_minor": 5
}
